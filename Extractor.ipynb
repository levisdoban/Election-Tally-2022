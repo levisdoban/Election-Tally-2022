{
 "cells": [
  {
   "cell_type": "code",
   "execution_count": 11,
   "id": "e14517ee",
   "metadata": {},
   "outputs": [],
   "source": [
    "from PIL import Image\n",
    "from PIL import ImageFont\n",
    "from PIL import ImageDraw\n",
    "import sys"
   ]
  },
  {
   "cell_type": "code",
   "execution_count": 4,
   "id": "looking-maintenance",
   "metadata": {},
   "outputs": [],
   "source": [
    "from tkinter import *\n",
    "from PIL import Image,ImageTk\n",
    "from pdf2image import convert_from_path"
   ]
  },
  {
   "cell_type": "code",
   "execution_count": 93,
   "id": "missing-passing",
   "metadata": {},
   "outputs": [],
   "source": [
    "import os"
   ]
  },
  {
   "cell_type": "code",
   "execution_count": 94,
   "id": "regular-romance",
   "metadata": {},
   "outputs": [],
   "source": [
    "import image_slicer"
   ]
  },
  {
   "cell_type": "code",
   "execution_count": 95,
   "id": "cf57f768",
   "metadata": {},
   "outputs": [],
   "source": [
    "county = \"BARINGO\"\n",
    "processeddir = f\"PROCESSED/{county}/\""
   ]
  },
  {
   "cell_type": "code",
   "execution_count": 96,
   "id": "34deaa0a",
   "metadata": {},
   "outputs": [
    {
     "data": {
      "text/plain": [
       "1032"
      ]
     },
     "execution_count": 96,
     "metadata": {},
     "output_type": "execute_result"
    }
   ],
   "source": [
    "len(files)"
   ]
  },
  {
   "cell_type": "code",
   "execution_count": 110,
   "id": "12bb0500",
   "metadata": {},
   "outputs": [],
   "source": [
    "for file in files[:10]:\n",
    "    pdftoread = f\"{county}/{file}\"\n",
    "    filename = file.split(\".\")[-2]\n",
    "    images = convert_from_path(pdftoread)[0]\n",
    "    mainimagename = f\"{processeddir}{filename}.jpg\"\n",
    "    images.save(mainimagename, 'JPEG')\n",
    "    t = image_slicer.slice(mainimagename,6)\n",
    "    \n",
    "    tallyfinal  =  f'{mainimagename.split(\".\")[-2]}_01_03.png'\n",
    "    in_file = tallyfinal\n",
    "    out_file = f'{mainimagename.split(\".\")[-2]}.png'\n",
    "    img = Image.open(in_file)\n",
    "    width, height = img.size\n",
    "    cropped = img.crop((0, int(height/3), width, height))\n",
    "    cropped.save(out_file)\n",
    "    alltorm = [f\"{processeddir}{a}\" for a in os.listdir(processeddir) if f\"{processeddir}{a}\".startswith(f'{mainimagename.split(\".\")[-2]}')]\n",
    "    [os.remove(a) for a in alltorm if a != out_file]\n",
    "    \n",
    "    "
   ]
  },
  {
   "cell_type": "code",
   "execution_count": null,
   "id": "e9651b86",
   "metadata": {},
   "outputs": [],
   "source": []
  },
  {
   "cell_type": "code",
   "execution_count": 80,
   "id": "regular-treatment",
   "metadata": {
    "scrolled": true
   },
   "outputs": [],
   "source": [
    "tally = f'{mainimagename.split(\".\")[-2]}_01_03.png'\n",
    "    t= image_slicer.slice(tally,2)\n",
    "    tallyfinal  =  f'{mainimagename.split(\".\")[-2]}_01_03_01_02.png'\n",
    "    in_file = tallyfinal\n",
    "    out_file = f'{mainimagename.split(\".\")[-2]}.png'\n",
    "    img = Image.open(in_file)\n",
    "    width, height = img.size\n",
    "    cropped = img.crop((0, 0, width, height))\n",
    "#     cropped = img.crop((0, int(height/2), width, height))\n",
    "    cropped.save(out_file)\n",
    "    alltorm = [f\"{processeddir}{a}\" for a in os.listdir(processeddir) if f\"{processeddir}{a}\".startswith(f'{mainimagename.split(\".\")[-2]}')]\n",
    "    [os.remove(a) for a in alltorm if a != out_file]"
   ]
  },
  {
   "cell_type": "code",
   "execution_count": 81,
   "id": "ebadbc8c",
   "metadata": {
    "scrolled": true
   },
   "outputs": [],
   "source": []
  },
  {
   "cell_type": "code",
   "execution_count": 82,
   "id": "04072dea",
   "metadata": {},
   "outputs": [],
   "source": []
  },
  {
   "cell_type": "code",
   "execution_count": 83,
   "id": "1803c722",
   "metadata": {},
   "outputs": [],
   "source": []
  },
  {
   "cell_type": "code",
   "execution_count": 84,
   "id": "7c958685",
   "metadata": {},
   "outputs": [],
   "source": []
  },
  {
   "cell_type": "code",
   "execution_count": 85,
   "id": "0355bb76",
   "metadata": {},
   "outputs": [],
   "source": []
  },
  {
   "cell_type": "code",
   "execution_count": 86,
   "id": "a67f7e30",
   "metadata": {},
   "outputs": [],
   "source": []
  },
  {
   "cell_type": "code",
   "execution_count": 87,
   "id": "a1fde38c",
   "metadata": {},
   "outputs": [
    {
     "data": {
      "text/plain": [
       "[None, None, None, None, None, None, None, None, None]"
      ]
     },
     "execution_count": 87,
     "metadata": {},
     "output_type": "execute_result"
    }
   ],
   "source": []
  },
  {
   "cell_type": "code",
   "execution_count": null,
   "id": "af5d8d39",
   "metadata": {},
   "outputs": [],
   "source": [
    "#####################################################"
   ]
  },
  {
   "cell_type": "code",
   "execution_count": 89,
   "id": "4fbe987d",
   "metadata": {},
   "outputs": [],
   "source": [
    "import cv2\n",
    "import numpy as np\n"
   ]
  },
  {
   "cell_type": "code",
   "execution_count": 91,
   "id": "e18981e0",
   "metadata": {},
   "outputs": [
    {
     "data": {
      "image/png": "[encoded data removed]",
      "text/plain": [
       "<Figure size 432x288 with 2 Axes>"
      ]
     },
     "metadata": {},
     "output_type": "display_data"
    }
   ],
   "source": [
    "from matplotlib import pyplot as plt\n",
    "img = cv2.imread(out_file,0)\n",
    "img = cv2.medianBlur(img,5)\n",
    "ret,th1 = cv2.threshold(img,127,255,cv2.THRESH_BINARY)\n",
    "th2 = cv2.adaptiveThreshold(img,255,cv2.ADAPTIVE_THRESH_MEAN_C,\\\n",
    "            cv2.THRESH_BINARY,11,2)\n",
    "th3 = cv2.adaptiveThreshold(img,255,cv2.ADAPTIVE_THRESH_GAUSSIAN_C,\\\n",
    "            cv2.THRESH_BINARY,11,2)\n",
    "titles = ['Original Image', 'Adaptive Gaussian Thresholding']\n",
    "images = [img, th3]\n",
    "for i in range(2):\n",
    "    plt.subplot(2,2,i+1),plt.imshow(images[i],'gray')\n",
    "    plt.title(titles[i])\n",
    "    plt.xticks([]),plt.yticks([])\n",
    "plt.show()"
   ]
  },
  {
   "cell_type": "code",
   "execution_count": null,
   "id": "894c749e",
   "metadata": {},
   "outputs": [],
   "source": []
  },
  {
   "cell_type": "code",
   "execution_count": null,
   "id": "ea694348",
   "metadata": {},
   "outputs": [],
   "source": []
  },
  {
   "cell_type": "code",
   "execution_count": null,
   "id": "45a52824",
   "metadata": {},
   "outputs": [],
   "source": []
  }
 ],
 "metadata": {
  "kernelspec": {
   "display_name": "Python 3",
   "language": "python",
   "name": "python3"
  },
  "language_info": {
   "codemirror_mode": {
    "name": "ipython",
    "version": 3
   },
   "file_extension": ".py",
   "mimetype": "text/x-python",
   "name": "python",
   "nbconvert_exporter": "python",
   "pygments_lexer": "ipython3",
   "version": "3.8.0"
  }
 },
 "nbformat": 4,
 "nbformat_minor": 5
}
